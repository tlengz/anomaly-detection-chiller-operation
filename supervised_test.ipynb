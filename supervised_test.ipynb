{
 "cells": [
  {
   "cell_type": "code",
   "execution_count": 20,
   "metadata": {},
   "outputs": [
    {
     "name": "stdout",
     "output_type": "stream",
     "text": [
      "Found 177 duplicate rows. Resolving by aggregation.\n",
      "Pivot successful!\n",
      "Datasource           Timestamp  BUILDING A\\CHL\\5:=DAILY STARTS  \\\n",
      "0          2022-01-05 22:20:00                             1.0   \n",
      "1          2022-01-05 22:25:00                             1.0   \n",
      "2          2022-01-05 22:30:00                             1.0   \n",
      "3          2022-01-05 22:35:00                             1.0   \n",
      "4          2022-01-05 22:40:00                             1.0   \n",
      "\n",
      "Datasource  BUILDING A\\CHL\\5:=DUTY CYCLE  BUILDING A\\CHL\\5:CDW FLOW  \\\n",
      "0                                    0.0                  -0.019607   \n",
      "1                                    0.0                  -0.019607   \n",
      "2                                    0.0                  -0.020650   \n",
      "3                                    0.0                  -0.018888   \n",
      "4                                    0.0                  -0.019978   \n",
      "\n",
      "Datasource  BUILDING A\\CHL\\5:CDW RT  BUILDING A\\CHL\\5:CDW RWT  \\\n",
      "0                               0.0                  26.35345   \n",
      "1                               0.0                  26.35345   \n",
      "2                               0.0                  26.35345   \n",
      "3                               0.0                  26.35345   \n",
      "4                               0.0                  26.35345   \n",
      "\n",
      "Datasource  BUILDING A\\CHL\\5:CDW SWT  BUILDING A\\CHL\\5:CHW FLOW  \\\n",
      "0                           26.10830                  -0.018538   \n",
      "1                           26.10830                  -0.018538   \n",
      "2                           26.00923                  -0.017318   \n",
      "3                           26.00923                  -0.016057   \n",
      "4                           26.00923                  -0.017805   \n",
      "\n",
      "Datasource  BUILDING A\\CHL\\5:CHW RT  BUILDING A\\CHL\\5:CHW RWT  \\\n",
      "0                               0.0                  13.80138   \n",
      "1                               0.0                  13.80138   \n",
      "2                               0.0                  13.80138   \n",
      "3                               0.0                  13.80138   \n",
      "4                               0.0                  13.90479   \n",
      "\n",
      "Datasource  BUILDING A\\CHL\\5:CHW SWT  BUILDING A\\CHL\\5:CMD  \\\n",
      "0                           14.41102                   0.0   \n",
      "1                           14.41102                   0.0   \n",
      "2                           14.41102                   0.0   \n",
      "3                           14.41102                   0.0   \n",
      "4                           14.41102                   0.0   \n",
      "\n",
      "Datasource  BUILDING A\\CHL\\5:EFF  BUILDING A\\CHL\\5:KW  BUILDING A\\CHL\\5:STS  \\\n",
      "0                            0.0                 0.18                   0.0   \n",
      "1                            0.0                 0.18                   0.0   \n",
      "2                            0.0                 0.18                   0.0   \n",
      "3                            0.0                 0.18                   0.0   \n",
      "4                            0.0                 0.18                   0.0   \n",
      "\n",
      "Datasource  BUILDING A\\CHL\\5:TRIP ALM  \n",
      "0                                 0.0  \n",
      "1                                 0.0  \n",
      "2                                 0.0  \n",
      "3                                 0.0  \n",
      "4                                 0.0  \n"
     ]
    }
   ],
   "source": [
    "import pandas as pd\n",
    "\n",
    "# Load dataset\n",
    "df = pd.read_excel('dataset/2022/ACMV-CHL-5-(01012022_1200AM-01072022_1200AM).xlsx')\n",
    "\n",
    "# Check for duplicates\n",
    "duplicates = df[df.duplicated(subset=['Timestamp', 'Datasource'], keep=False)]\n",
    "if not duplicates.empty:\n",
    "    print(f\"Found {len(duplicates)} duplicate rows. Resolving by aggregation.\")\n",
    "    # Resolve duplicates by taking the mean of duplicate entries\n",
    "    df = df.groupby(['Timestamp', 'Datasource'], as_index=False).mean()\n",
    "\n",
    "# Pivot the table to wide format\n",
    "try:\n",
    "    df_wide = df.pivot(index='Timestamp', columns='Datasource', values='Value')\n",
    "    df_wide.reset_index(inplace=True)  # Reset index for easier handling\n",
    "    print(\"Pivot successful!\")\n",
    "except ValueError as e:\n",
    "    print(f\"Error during pivoting: {e}\")\n",
    "\n",
    "# Forward fill missing values\n",
    "df_wide.ffill(inplace=True)\n",
    "\n",
    "# Backward fill missing values (if needed)\n",
    "df_wide.bfill(inplace=True)\n",
    "\n",
    "# Display the first few rows of the prepared data\n",
    "print(df_wide.head())\n"
   ]
  },
  {
   "cell_type": "code",
   "execution_count": 21,
   "metadata": {},
   "outputs": [
    {
     "name": "stdout",
     "output_type": "stream",
     "text": [
      "                                  count                           mean  \\\n",
      "Datasource                                                               \n",
      "Timestamp                         50707  2022-04-03 23:09:55.663320832   \n",
      "BUILDING A\\CHL\\5:=DAILY STARTS  50707.0                      71.528606   \n",
      "BUILDING A\\CHL\\5:=DUTY CYCLE    50707.0                       0.157269   \n",
      "BUILDING A\\CHL\\5:CDW FLOW       50707.0                      10.406736   \n",
      "BUILDING A\\CHL\\5:CDW RT         50707.0                      45.702181   \n",
      "BUILDING A\\CHL\\5:CDW RWT        50707.0                      19.728999   \n",
      "BUILDING A\\CHL\\5:CDW SWT        50707.0                      18.846923   \n",
      "BUILDING A\\CHL\\5:CHW FLOW       50707.0                       6.038716   \n",
      "BUILDING A\\CHL\\5:CHW RT         50707.0                      41.083678   \n",
      "BUILDING A\\CHL\\5:CHW RWT        50707.0                      10.826312   \n",
      "BUILDING A\\CHL\\5:CHW SWT        50707.0                       9.897936   \n",
      "BUILDING A\\CHL\\5:CMD            50707.0                       0.150512   \n",
      "BUILDING A\\CHL\\5:EFF            50707.0                       0.074252   \n",
      "BUILDING A\\CHL\\5:KW             50707.0                      19.608746   \n",
      "BUILDING A\\CHL\\5:STS            50707.0                       0.150591   \n",
      "BUILDING A\\CHL\\5:TRIP ALM       50707.0                       0.001459   \n",
      "\n",
      "                                                min                  25%  \\\n",
      "Datasource                                                                 \n",
      "Timestamp                       2022-01-05 22:20:00  2022-02-18 22:47:30   \n",
      "BUILDING A\\CHL\\5:=DAILY STARTS                  0.0                  0.0   \n",
      "BUILDING A\\CHL\\5:=DUTY CYCLE                    0.0                  0.0   \n",
      "BUILDING A\\CHL\\5:CDW FLOW                 -0.159133            -0.018806   \n",
      "BUILDING A\\CHL\\5:CDW RT                         0.0                  0.0   \n",
      "BUILDING A\\CHL\\5:CDW RWT                        0.0                  0.0   \n",
      "BUILDING A\\CHL\\5:CDW SWT                        0.0                  0.0   \n",
      "BUILDING A\\CHL\\5:CHW FLOW                 -0.818313            -0.016852   \n",
      "BUILDING A\\CHL\\5:CHW RT                         0.0                  0.0   \n",
      "BUILDING A\\CHL\\5:CHW RWT                        0.0                  0.0   \n",
      "BUILDING A\\CHL\\5:CHW SWT                        0.0                  0.0   \n",
      "BUILDING A\\CHL\\5:CMD                            0.0                  0.0   \n",
      "BUILDING A\\CHL\\5:EFF                            0.0                  0.0   \n",
      "BUILDING A\\CHL\\5:KW                             0.0                  0.0   \n",
      "BUILDING A\\CHL\\5:STS                            0.0                  0.0   \n",
      "BUILDING A\\CHL\\5:TRIP ALM                       0.0                  0.0   \n",
      "\n",
      "                                                50%                  75%  \\\n",
      "Datasource                                                                 \n",
      "Timestamp                       2022-04-03 23:10:00  2022-05-17 23:32:30   \n",
      "BUILDING A\\CHL\\5:=DAILY STARTS                 80.0                125.0   \n",
      "BUILDING A\\CHL\\5:=DUTY CYCLE               0.170393             0.208313   \n",
      "BUILDING A\\CHL\\5:CDW FLOW                 -0.012422                  0.0   \n",
      "BUILDING A\\CHL\\5:CDW RT                         0.0                  0.0   \n",
      "BUILDING A\\CHL\\5:CDW RWT                   26.25463             27.29203   \n",
      "BUILDING A\\CHL\\5:CDW SWT                   25.40026             26.86811   \n",
      "BUILDING A\\CHL\\5:CHW FLOW                 -0.014517                  0.0   \n",
      "BUILDING A\\CHL\\5:CHW RT                         0.0                  0.0   \n",
      "BUILDING A\\CHL\\5:CHW RWT                   14.48079             15.56614   \n",
      "BUILDING A\\CHL\\5:CHW SWT                   14.35267             14.95682   \n",
      "BUILDING A\\CHL\\5:CMD                            0.0                  0.0   \n",
      "BUILDING A\\CHL\\5:EFF                            0.0                  0.0   \n",
      "BUILDING A\\CHL\\5:KW                            0.18                 0.19   \n",
      "BUILDING A\\CHL\\5:STS                            0.0                  0.0   \n",
      "BUILDING A\\CHL\\5:TRIP ALM                       0.0                  0.0   \n",
      "\n",
      "                                                max         std  \n",
      "Datasource                                                       \n",
      "Timestamp                       2022-06-30 23:55:00         NaN  \n",
      "BUILDING A\\CHL\\5:=DAILY STARTS                143.0   55.880057  \n",
      "BUILDING A\\CHL\\5:=DUTY CYCLE                    1.0    0.138056  \n",
      "BUILDING A\\CHL\\5:CDW FLOW                  75.08434   24.525146  \n",
      "BUILDING A\\CHL\\5:CDW RT                    608.1956  113.372682  \n",
      "BUILDING A\\CHL\\5:CDW RWT                   37.36606   12.668679  \n",
      "BUILDING A\\CHL\\5:CDW SWT                   32.02267   11.999507  \n",
      "BUILDING A\\CHL\\5:CHW FLOW                  88.90675   14.522745  \n",
      "BUILDING A\\CHL\\5:CHW RT                     599.475  102.062314  \n",
      "BUILDING A\\CHL\\5:CHW RWT                   22.98827    6.963849  \n",
      "BUILDING A\\CHL\\5:CHW SWT                   25.51158    6.665867  \n",
      "BUILDING A\\CHL\\5:CMD                            1.0    0.357576  \n",
      "BUILDING A\\CHL\\5:EFF                       17.48687    0.216909  \n",
      "BUILDING A\\CHL\\5:KW                          231.81   48.031759  \n",
      "BUILDING A\\CHL\\5:STS                            1.0    0.357653  \n",
      "BUILDING A\\CHL\\5:TRIP ALM                       1.0    0.038045  \n"
     ]
    }
   ],
   "source": [
    "# Calculate basic statistics for each datasource\n",
    "stats = df_wide.describe().T  # Transpose to see stats per datasource\n",
    "print(stats)\n"
   ]
  },
  {
   "cell_type": "code",
   "execution_count": 22,
   "metadata": {},
   "outputs": [
    {
     "name": "stdout",
     "output_type": "stream",
     "text": [
      "Thresholds for each datasource:\n",
      "{'BUILDING A\\\\CHL\\\\5:=DAILY STARTS': (-96.11156692073752, 239.16877795668915), 'BUILDING A\\\\CHL\\\\5:=DUTY CYCLE': (-0.25689930531151983, 0.5714380917276987), 'BUILDING A\\\\CHL\\\\5:CDW FLOW': (-63.16870174984416, 83.982172789105), 'BUILDING A\\\\CHL\\\\5:CDW RT': (-294.4158647027123, 385.82022658918453), 'BUILDING A\\\\CHL\\\\5:CDW RWT': (-18.27703753970277, 57.73503488010937), 'BUILDING A\\\\CHL\\\\5:CDW SWT': (-17.151598618708114, 54.845445519136), 'BUILDING A\\\\CHL\\\\5:CHW FLOW': (-37.529518596494746, 49.60694992031613), 'BUILDING A\\\\CHL\\\\5:CHW RT': (-265.1032646070722, 347.2706202245794), 'BUILDING A\\\\CHL\\\\5:CHW RWT': (-10.065235348467088, 31.717859299400853), 'BUILDING A\\\\CHL\\\\5:CHW SWT': (-10.099664847380506, 29.89553677236125), 'BUILDING A\\\\CHL\\\\5:CMD': (-0.9222158103041525, 1.2232393376277961), 'BUILDING A\\\\CHL\\\\5:EFF': (-0.5764758851680486, 0.7249804428148033), 'BUILDING A\\\\CHL\\\\5:KW': (-124.48653241858322, 163.70402349476592), 'BUILDING A\\\\CHL\\\\5:STS': (-0.9223681803645358, 1.223549476832479), 'BUILDING A\\\\CHL\\\\5:TRIP ALM': (-0.11267487792944098, 0.11559360709898364)}\n"
     ]
    }
   ],
   "source": [
    "# Define thresholds based on 3 standard deviations from the mean\n",
    "thresholds = {}\n",
    "for col in df_wide.columns[1:]:  # Skip the 'Timestamp' column\n",
    "    mean = stats.loc[col, 'mean']\n",
    "    std = stats.loc[col, 'std']\n",
    "    upper_threshold = mean + 3 * std  # Upper bound for anomalies\n",
    "    lower_threshold = mean - 3 * std  # Lower bound for anomalies\n",
    "    thresholds[col] = (lower_threshold, upper_threshold)\n",
    "\n",
    "print(\"Thresholds for each datasource:\")\n",
    "print(thresholds)\n"
   ]
  },
  {
   "cell_type": "code",
   "execution_count": 23,
   "metadata": {},
   "outputs": [
    {
     "name": "stdout",
     "output_type": "stream",
     "text": [
      "Anomaly label distribution:\n",
      "anomaly_labels\n",
      "0    48990\n",
      "1     1717\n",
      "Name: count, dtype: int64\n"
     ]
    }
   ],
   "source": [
    "# Add a label column for anomalies\n",
    "df_wide['anomaly_labels'] = 0  # Default to normal\n",
    "\n",
    "# Flag anomalies for each datasource\n",
    "for col in df_wide.columns[1:-1]:  # Skip 'Timestamp' and 'anomaly_labels'\n",
    "    lower, upper = thresholds[col]\n",
    "    df_wide.loc[(df_wide[col] < lower) | (df_wide[col] > upper), 'anomaly_labels'] = 1\n",
    "\n",
    "# Check the distribution of anomaly labels\n",
    "print(\"Anomaly label distribution:\")\n",
    "print(df_wide['anomaly_labels'].value_counts())\n"
   ]
  },
  {
   "cell_type": "code",
   "execution_count": 24,
   "metadata": {},
   "outputs": [
    {
     "name": "stdout",
     "output_type": "stream",
     "text": [
      "Training data shape: (40557, 10, 16), (40557,)\n",
      "Testing data shape: (10140, 10, 16), (10140,)\n"
     ]
    }
   ],
   "source": [
    "import numpy as np\n",
    "import pandas as pd\n",
    "from sklearn.preprocessing import MinMaxScaler\n",
    "from tensorflow.keras.models import Sequential\n",
    "from tensorflow.keras.layers import LSTM, Dense\n",
    "\n",
    "# Normalize data (excluding labels)\n",
    "scaler = MinMaxScaler()\n",
    "data = scaler.fit_transform(df_wide.iloc[:, 1:])  # Skip 'Timestamp'\n",
    "\n",
    "# Function to create sequences and labels\n",
    "def create_sequences_with_labels(data, labels, time_steps=10):\n",
    "    sequences, sequence_labels = [], []\n",
    "    for i in range(len(data) - time_steps):\n",
    "        # Extract a sequence\n",
    "        seq = data[i:i + time_steps]\n",
    "        # Use the label of the last time step as the sequence label\n",
    "        label = labels[i + time_steps - 1]\n",
    "        sequences.append(seq)\n",
    "        sequence_labels.append(label)\n",
    "    return np.array(sequences), np.array(sequence_labels)\n",
    "\n",
    "# Create labeled sequences\n",
    "time_steps = 10\n",
    "labels = df_wide['anomaly_labels'].values  # Replace with your labels column\n",
    "X, y = create_sequences_with_labels(data, labels, time_steps)\n",
    "\n",
    "# Split into training and testing sets\n",
    "split = int(0.8 * len(X))  # 80% training, 20% testing\n",
    "X_train, X_test = X[:split], X[split:]\n",
    "y_train, y_test = y[:split], y[split:]\n",
    "\n",
    "print(f\"Training data shape: {X_train.shape}, {y_train.shape}\")\n",
    "print(f\"Testing data shape: {X_test.shape}, {y_test.shape}\")\n"
   ]
  },
  {
   "cell_type": "code",
   "execution_count": 25,
   "metadata": {},
   "outputs": [
    {
     "data": {
      "text/html": [
       "<pre style=\"white-space:pre;overflow-x:auto;line-height:normal;font-family:Menlo,'DejaVu Sans Mono',consolas,'Courier New',monospace\"><span style=\"font-weight: bold\">Model: \"sequential_2\"</span>\n",
       "</pre>\n"
      ],
      "text/plain": [
       "\u001b[1mModel: \"sequential_2\"\u001b[0m\n"
      ]
     },
     "metadata": {},
     "output_type": "display_data"
    },
    {
     "data": {
      "text/html": [
       "<pre style=\"white-space:pre;overflow-x:auto;line-height:normal;font-family:Menlo,'DejaVu Sans Mono',consolas,'Courier New',monospace\">┏━━━━━━━━━━━━━━━━━━━━━━━━━━━━━━━━━┳━━━━━━━━━━━━━━━━━━━━━━━━┳━━━━━━━━━━━━━━━┓\n",
       "┃<span style=\"font-weight: bold\"> Layer (type)                    </span>┃<span style=\"font-weight: bold\"> Output Shape           </span>┃<span style=\"font-weight: bold\">       Param # </span>┃\n",
       "┡━━━━━━━━━━━━━━━━━━━━━━━━━━━━━━━━━╇━━━━━━━━━━━━━━━━━━━━━━━━╇━━━━━━━━━━━━━━━┩\n",
       "│ lstm_4 (<span style=\"color: #0087ff; text-decoration-color: #0087ff\">LSTM</span>)                   │ (<span style=\"color: #00d7ff; text-decoration-color: #00d7ff\">None</span>, <span style=\"color: #00af00; text-decoration-color: #00af00\">10</span>, <span style=\"color: #00af00; text-decoration-color: #00af00\">64</span>)         │        <span style=\"color: #00af00; text-decoration-color: #00af00\">20,736</span> │\n",
       "├─────────────────────────────────┼────────────────────────┼───────────────┤\n",
       "│ lstm_5 (<span style=\"color: #0087ff; text-decoration-color: #0087ff\">LSTM</span>)                   │ (<span style=\"color: #00d7ff; text-decoration-color: #00d7ff\">None</span>, <span style=\"color: #00af00; text-decoration-color: #00af00\">32</span>)             │        <span style=\"color: #00af00; text-decoration-color: #00af00\">12,416</span> │\n",
       "├─────────────────────────────────┼────────────────────────┼───────────────┤\n",
       "│ dense_2 (<span style=\"color: #0087ff; text-decoration-color: #0087ff\">Dense</span>)                 │ (<span style=\"color: #00d7ff; text-decoration-color: #00d7ff\">None</span>, <span style=\"color: #00af00; text-decoration-color: #00af00\">1</span>)              │            <span style=\"color: #00af00; text-decoration-color: #00af00\">33</span> │\n",
       "└─────────────────────────────────┴────────────────────────┴───────────────┘\n",
       "</pre>\n"
      ],
      "text/plain": [
       "┏━━━━━━━━━━━━━━━━━━━━━━━━━━━━━━━━━┳━━━━━━━━━━━━━━━━━━━━━━━━┳━━━━━━━━━━━━━━━┓\n",
       "┃\u001b[1m \u001b[0m\u001b[1mLayer (type)                   \u001b[0m\u001b[1m \u001b[0m┃\u001b[1m \u001b[0m\u001b[1mOutput Shape          \u001b[0m\u001b[1m \u001b[0m┃\u001b[1m \u001b[0m\u001b[1m      Param #\u001b[0m\u001b[1m \u001b[0m┃\n",
       "┡━━━━━━━━━━━━━━━━━━━━━━━━━━━━━━━━━╇━━━━━━━━━━━━━━━━━━━━━━━━╇━━━━━━━━━━━━━━━┩\n",
       "│ lstm_4 (\u001b[38;5;33mLSTM\u001b[0m)                   │ (\u001b[38;5;45mNone\u001b[0m, \u001b[38;5;34m10\u001b[0m, \u001b[38;5;34m64\u001b[0m)         │        \u001b[38;5;34m20,736\u001b[0m │\n",
       "├─────────────────────────────────┼────────────────────────┼───────────────┤\n",
       "│ lstm_5 (\u001b[38;5;33mLSTM\u001b[0m)                   │ (\u001b[38;5;45mNone\u001b[0m, \u001b[38;5;34m32\u001b[0m)             │        \u001b[38;5;34m12,416\u001b[0m │\n",
       "├─────────────────────────────────┼────────────────────────┼───────────────┤\n",
       "│ dense_2 (\u001b[38;5;33mDense\u001b[0m)                 │ (\u001b[38;5;45mNone\u001b[0m, \u001b[38;5;34m1\u001b[0m)              │            \u001b[38;5;34m33\u001b[0m │\n",
       "└─────────────────────────────────┴────────────────────────┴───────────────┘\n"
      ]
     },
     "metadata": {},
     "output_type": "display_data"
    },
    {
     "data": {
      "text/html": [
       "<pre style=\"white-space:pre;overflow-x:auto;line-height:normal;font-family:Menlo,'DejaVu Sans Mono',consolas,'Courier New',monospace\"><span style=\"font-weight: bold\"> Total params: </span><span style=\"color: #00af00; text-decoration-color: #00af00\">33,185</span> (129.63 KB)\n",
       "</pre>\n"
      ],
      "text/plain": [
       "\u001b[1m Total params: \u001b[0m\u001b[38;5;34m33,185\u001b[0m (129.63 KB)\n"
      ]
     },
     "metadata": {},
     "output_type": "display_data"
    },
    {
     "data": {
      "text/html": [
       "<pre style=\"white-space:pre;overflow-x:auto;line-height:normal;font-family:Menlo,'DejaVu Sans Mono',consolas,'Courier New',monospace\"><span style=\"font-weight: bold\"> Trainable params: </span><span style=\"color: #00af00; text-decoration-color: #00af00\">33,185</span> (129.63 KB)\n",
       "</pre>\n"
      ],
      "text/plain": [
       "\u001b[1m Trainable params: \u001b[0m\u001b[38;5;34m33,185\u001b[0m (129.63 KB)\n"
      ]
     },
     "metadata": {},
     "output_type": "display_data"
    },
    {
     "data": {
      "text/html": [
       "<pre style=\"white-space:pre;overflow-x:auto;line-height:normal;font-family:Menlo,'DejaVu Sans Mono',consolas,'Courier New',monospace\"><span style=\"font-weight: bold\"> Non-trainable params: </span><span style=\"color: #00af00; text-decoration-color: #00af00\">0</span> (0.00 B)\n",
       "</pre>\n"
      ],
      "text/plain": [
       "\u001b[1m Non-trainable params: \u001b[0m\u001b[38;5;34m0\u001b[0m (0.00 B)\n"
      ]
     },
     "metadata": {},
     "output_type": "display_data"
    }
   ],
   "source": [
    "from tensorflow.keras.layers import Input\n",
    "\n",
    "# Define LSTM model\n",
    "model = Sequential([\n",
    "    Input(shape=(X_train.shape[1], X_train.shape[2])),\n",
    "    LSTM(64, return_sequences=True),\n",
    "    LSTM(32, return_sequences=False),\n",
    "    Dense(1, activation='sigmoid')  # Output layer for binary classification\n",
    "])\n",
    "\n",
    "# Compile the model\n",
    "model.compile(optimizer='adam', loss='binary_crossentropy', metrics=['accuracy'])\n",
    "\n",
    "# Display model summary\n",
    "model.summary()\n"
   ]
  },
  {
   "cell_type": "code",
   "execution_count": 26,
   "metadata": {},
   "outputs": [
    {
     "name": "stdout",
     "output_type": "stream",
     "text": [
      "Epoch 1/20\n",
      "\u001b[1m1014/1014\u001b[0m \u001b[32m━━━━━━━━━━━━━━━━━━━━\u001b[0m\u001b[37m\u001b[0m \u001b[1m8s\u001b[0m 6ms/step - accuracy: 0.9779 - loss: 0.1091 - val_accuracy: 1.0000 - val_loss: 0.0105\n",
      "Epoch 2/20\n",
      "\u001b[1m1014/1014\u001b[0m \u001b[32m━━━━━━━━━━━━━━━━━━━━\u001b[0m\u001b[37m\u001b[0m \u001b[1m5s\u001b[0m 5ms/step - accuracy: 0.9994 - loss: 0.0036 - val_accuracy: 1.0000 - val_loss: 0.0026\n",
      "Epoch 3/20\n",
      "\u001b[1m1014/1014\u001b[0m \u001b[32m━━━━━━━━━━━━━━━━━━━━\u001b[0m\u001b[37m\u001b[0m \u001b[1m5s\u001b[0m 5ms/step - accuracy: 1.0000 - loss: 8.5679e-04 - val_accuracy: 1.0000 - val_loss: 0.0010\n",
      "Epoch 4/20\n",
      "\u001b[1m1014/1014\u001b[0m \u001b[32m━━━━━━━━━━━━━━━━━━━━\u001b[0m\u001b[37m\u001b[0m \u001b[1m5s\u001b[0m 5ms/step - accuracy: 1.0000 - loss: 3.8531e-04 - val_accuracy: 1.0000 - val_loss: 5.2961e-04\n",
      "Epoch 5/20\n",
      "\u001b[1m1014/1014\u001b[0m \u001b[32m━━━━━━━━━━━━━━━━━━━━\u001b[0m\u001b[37m\u001b[0m \u001b[1m5s\u001b[0m 5ms/step - accuracy: 1.0000 - loss: 2.1230e-04 - val_accuracy: 1.0000 - val_loss: 2.9354e-04\n",
      "Epoch 6/20\n",
      "\u001b[1m1014/1014\u001b[0m \u001b[32m━━━━━━━━━━━━━━━━━━━━\u001b[0m\u001b[37m\u001b[0m \u001b[1m7s\u001b[0m 7ms/step - accuracy: 1.0000 - loss: 1.1941e-04 - val_accuracy: 1.0000 - val_loss: 1.6964e-04\n",
      "Epoch 7/20\n",
      "\u001b[1m1014/1014\u001b[0m \u001b[32m━━━━━━━━━━━━━━━━━━━━\u001b[0m\u001b[37m\u001b[0m \u001b[1m6s\u001b[0m 6ms/step - accuracy: 1.0000 - loss: 6.4381e-05 - val_accuracy: 1.0000 - val_loss: 1.0041e-04\n",
      "Epoch 8/20\n",
      "\u001b[1m1014/1014\u001b[0m \u001b[32m━━━━━━━━━━━━━━━━━━━━\u001b[0m\u001b[37m\u001b[0m \u001b[1m5s\u001b[0m 5ms/step - accuracy: 1.0000 - loss: 3.8930e-05 - val_accuracy: 1.0000 - val_loss: 6.0594e-05\n",
      "Epoch 9/20\n",
      "\u001b[1m1014/1014\u001b[0m \u001b[32m━━━━━━━━━━━━━━━━━━━━\u001b[0m\u001b[37m\u001b[0m \u001b[1m5s\u001b[0m 5ms/step - accuracy: 1.0000 - loss: 2.3859e-05 - val_accuracy: 1.0000 - val_loss: 3.6045e-05\n",
      "Epoch 10/20\n",
      "\u001b[1m1014/1014\u001b[0m \u001b[32m━━━━━━━━━━━━━━━━━━━━\u001b[0m\u001b[37m\u001b[0m \u001b[1m6s\u001b[0m 5ms/step - accuracy: 1.0000 - loss: 1.3440e-05 - val_accuracy: 1.0000 - val_loss: 2.1622e-05\n",
      "Epoch 11/20\n",
      "\u001b[1m1014/1014\u001b[0m \u001b[32m━━━━━━━━━━━━━━━━━━━━\u001b[0m\u001b[37m\u001b[0m \u001b[1m6s\u001b[0m 6ms/step - accuracy: 1.0000 - loss: 9.6299e-06 - val_accuracy: 1.0000 - val_loss: 1.3204e-05\n",
      "Epoch 12/20\n",
      "\u001b[1m1014/1014\u001b[0m \u001b[32m━━━━━━━━━━━━━━━━━━━━\u001b[0m\u001b[37m\u001b[0m \u001b[1m6s\u001b[0m 6ms/step - accuracy: 1.0000 - loss: 5.4547e-06 - val_accuracy: 1.0000 - val_loss: 7.9830e-06\n",
      "Epoch 13/20\n",
      "\u001b[1m1014/1014\u001b[0m \u001b[32m━━━━━━━━━━━━━━━━━━━━\u001b[0m\u001b[37m\u001b[0m \u001b[1m6s\u001b[0m 5ms/step - accuracy: 1.0000 - loss: 3.4324e-06 - val_accuracy: 1.0000 - val_loss: 4.8256e-06\n",
      "Epoch 14/20\n",
      "\u001b[1m1014/1014\u001b[0m \u001b[32m━━━━━━━━━━━━━━━━━━━━\u001b[0m\u001b[37m\u001b[0m \u001b[1m6s\u001b[0m 6ms/step - accuracy: 1.0000 - loss: 2.0435e-06 - val_accuracy: 1.0000 - val_loss: 2.9174e-06\n",
      "Epoch 15/20\n",
      "\u001b[1m1014/1014\u001b[0m \u001b[32m━━━━━━━━━━━━━━━━━━━━\u001b[0m\u001b[37m\u001b[0m \u001b[1m6s\u001b[0m 6ms/step - accuracy: 1.0000 - loss: 1.2185e-06 - val_accuracy: 1.0000 - val_loss: 1.7539e-06\n",
      "Epoch 16/20\n",
      "\u001b[1m1014/1014\u001b[0m \u001b[32m━━━━━━━━━━━━━━━━━━━━\u001b[0m\u001b[37m\u001b[0m \u001b[1m6s\u001b[0m 6ms/step - accuracy: 1.0000 - loss: 7.8851e-07 - val_accuracy: 1.0000 - val_loss: 1.0714e-06\n",
      "Epoch 17/20\n",
      "\u001b[1m1014/1014\u001b[0m \u001b[32m━━━━━━━━━━━━━━━━━━━━\u001b[0m\u001b[37m\u001b[0m \u001b[1m6s\u001b[0m 6ms/step - accuracy: 1.0000 - loss: 4.5696e-07 - val_accuracy: 1.0000 - val_loss: 6.5283e-07\n",
      "Epoch 18/20\n",
      "\u001b[1m1014/1014\u001b[0m \u001b[32m━━━━━━━━━━━━━━━━━━━━\u001b[0m\u001b[37m\u001b[0m \u001b[1m6s\u001b[0m 5ms/step - accuracy: 1.0000 - loss: 2.8428e-07 - val_accuracy: 1.0000 - val_loss: 3.9927e-07\n",
      "Epoch 19/20\n",
      "\u001b[1m1014/1014\u001b[0m \u001b[32m━━━━━━━━━━━━━━━━━━━━\u001b[0m\u001b[37m\u001b[0m \u001b[1m5s\u001b[0m 5ms/step - accuracy: 1.0000 - loss: 1.9026e-07 - val_accuracy: 1.0000 - val_loss: 2.4689e-07\n",
      "Epoch 20/20\n",
      "\u001b[1m1014/1014\u001b[0m \u001b[32m━━━━━━━━━━━━━━━━━━━━\u001b[0m\u001b[37m\u001b[0m \u001b[1m6s\u001b[0m 5ms/step - accuracy: 1.0000 - loss: 1.0972e-07 - val_accuracy: 1.0000 - val_loss: 1.5449e-07\n"
     ]
    }
   ],
   "source": [
    "# Train the model\n",
    "history = model.fit(\n",
    "    X_train, y_train,\n",
    "    epochs=20,  # Adjust based on your dataset size\n",
    "    batch_size=32,\n",
    "    validation_split=0.2,  # 20% of training data for validation\n",
    "    shuffle=True\n",
    ")\n"
   ]
  },
  {
   "cell_type": "code",
   "execution_count": 27,
   "metadata": {},
   "outputs": [
    {
     "name": "stdout",
     "output_type": "stream",
     "text": [
      "\u001b[1m317/317\u001b[0m \u001b[32m━━━━━━━━━━━━━━━━━━━━\u001b[0m\u001b[37m\u001b[0m \u001b[1m1s\u001b[0m 2ms/step - accuracy: 1.0000 - loss: 6.4903e-08\n",
      "Test Loss: 8.44944096911604e-08, Test Accuracy: 1.0\n",
      "\u001b[1m317/317\u001b[0m \u001b[32m━━━━━━━━━━━━━━━━━━━━\u001b[0m\u001b[37m\u001b[0m \u001b[1m1s\u001b[0m 3ms/step\n",
      "Classification Report:\n",
      "              precision    recall  f1-score   support\n",
      "\n",
      "           0       1.00      1.00      1.00      9826\n",
      "           1       1.00      1.00      1.00       314\n",
      "\n",
      "    accuracy                           1.00     10140\n",
      "   macro avg       1.00      1.00      1.00     10140\n",
      "weighted avg       1.00      1.00      1.00     10140\n",
      "\n",
      "Confusion Matrix:\n",
      "[[9826    0]\n",
      " [   0  314]]\n"
     ]
    }
   ],
   "source": [
    "# Evaluate on the test set\n",
    "loss, accuracy = model.evaluate(X_test, y_test)\n",
    "print(f\"Test Loss: {loss}, Test Accuracy: {accuracy}\")\n",
    "\n",
    "# Predict on the test set\n",
    "y_pred = (model.predict(X_test) > 0.5).astype(int)\n",
    "\n",
    "# Import metrics for evaluation\n",
    "from sklearn.metrics import classification_report, confusion_matrix\n",
    "\n",
    "# Print classification report\n",
    "print(\"Classification Report:\")\n",
    "print(classification_report(y_test, y_pred))\n",
    "\n",
    "# Confusion matrix\n",
    "print(\"Confusion Matrix:\")\n",
    "print(confusion_matrix(y_test, y_pred))\n"
   ]
  },
  {
   "cell_type": "code",
   "execution_count": 28,
   "metadata": {},
   "outputs": [
    {
     "data": {
      "image/png": "[encoded data removed]",
      "text/plain": [
       "<Figure size 1000x600 with 1 Axes>"
      ]
     },
     "metadata": {},
     "output_type": "display_data"
    },
    {
     "data": {
      "image/png": "[encoded data removed]",
      "text/plain": [
       "<Figure size 1200x600 with 1 Axes>"
      ]
     },
     "metadata": {},
     "output_type": "display_data"
    }
   ],
   "source": [
    "import matplotlib.pyplot as plt\n",
    "\n",
    "# Plot training vs validation loss\n",
    "plt.figure(figsize=(10, 6))\n",
    "plt.plot(history.history['loss'], label='Training Loss')\n",
    "plt.plot(history.history['val_loss'], label='Validation Loss')\n",
    "plt.legend()\n",
    "plt.title(\"Model Loss During Training\")\n",
    "plt.show()\n",
    "\n",
    "# Plot anomalies\n",
    "timestamps = df_wide['Timestamp'].values[-len(y_test):]\n",
    "plt.figure(figsize=(12, 6))\n",
    "plt.plot(timestamps, y_test, label='True Labels', alpha=0.7)\n",
    "plt.scatter(timestamps, y_pred, color='red', label='Predicted Anomalies', alpha=0.5)\n",
    "plt.legend()\n",
    "plt.title(\"True vs Predicted Anomalies\")\n",
    "plt.show()\n"
   ]
  },
  {
   "cell_type": "code",
   "execution_count": null,
   "metadata": {},
   "outputs": [],
   "source": []
  }
 ],
 "metadata": {
  "kernelspec": {
   "display_name": ".venv",
   "language": "python",
   "name": "python3"
  },
  "language_info": {
   "codemirror_mode": {
    "name": "ipython",
    "version": 3
   },
   "file_extension": ".py",
   "mimetype": "text/x-python",
   "name": "python",
   "nbconvert_exporter": "python",
   "pygments_lexer": "ipython3",
   "version": "3.9.13"
  }
 },
 "nbformat": 4,
 "nbformat_minor": 2
}
